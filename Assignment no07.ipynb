{
 "cells": [
  {
   "cell_type": "code",
   "execution_count": 34,
   "id": "bacb9072",
   "metadata": {},
   "outputs": [],
   "source": [
    "#Ans no01\n",
    "\n",
    "list1=[1,2,3,4,[44,55,66,True],False,(34,56,78,89,34),{1,2,3,3,2,1},{1:34,\"key2\":[55,67,78,89],4:(45,22,61,34,)},[56,\"data science\"],\"machine learning\"]"
   ]
  },
  {
   "cell_type": "code",
   "execution_count": 35,
   "id": "3051174f",
   "metadata": {},
   "outputs": [],
   "source": [
    "list2=[]\n",
    "for i in list1:\n",
    "        if type(i)==int:\n",
    "            list2.append(i)\n",
    "            "
   ]
  },
  {
   "cell_type": "code",
   "execution_count": 36,
   "id": "edffa819",
   "metadata": {},
   "outputs": [
    {
     "data": {
      "text/plain": [
       "[1, 2, 3, 4]"
      ]
     },
     "execution_count": 36,
     "metadata": {},
     "output_type": "execute_result"
    }
   ],
   "source": [
    "list2"
   ]
  },
  {
   "cell_type": "code",
   "execution_count": 37,
   "id": "bc8640cd",
   "metadata": {},
   "outputs": [
    {
     "name": "stdout",
     "output_type": "stream",
     "text": [
      "24\n"
     ]
    }
   ],
   "source": [
    "def multiply_number(list2):\n",
    "    prod=1 \n",
    "    for i in list2:\n",
    "        prod=prod*i\n",
    "    return prod\n",
    "list2=[1,2,3,4]\n",
    "print(multiply_number(list2))\n",
    "    \n",
    "    "
   ]
  },
  {
   "cell_type": "code",
   "execution_count": 38,
   "id": "d7a1c074",
   "metadata": {},
   "outputs": [],
   "source": [
    "sentence=(\"I want to become a Data Scientist\")\n",
    "def user(l):\n",
    "    for i in sentence:\n",
    "        if i.lower()==\"a\":\n",
    "              print(\"z\")\n",
    "        elif i.lower()==\"b\":\n",
    "             print(\"y\")\n",
    "        elif i.lower()==\"c\":\n",
    "             print(\"x\")\n",
    "        elif i.lower()==\"\":\n",
    "            print(\"$\")\n",
    "    return l\n",
    "\n"
   ]
  },
  {
   "cell_type": "code",
   "execution_count": 39,
   "id": "e229ccad",
   "metadata": {},
   "outputs": [
    {
     "name": "stdout",
     "output_type": "stream",
     "text": [
      "z\n",
      "y\n",
      "x\n",
      "z\n",
      "z\n",
      "z\n",
      "x\n"
     ]
    },
    {
     "data": {
      "text/plain": [
       "'I want to become a Data Scientist'"
      ]
     },
     "execution_count": 39,
     "metadata": {},
     "output_type": "execute_result"
    }
   ],
   "source": [
    "user(sentence)"
   ]
  }
 ],
 "metadata": {
  "kernelspec": {
   "display_name": "Python 3 (ipykernel)",
   "language": "python",
   "name": "python3"
  },
  "language_info": {
   "codemirror_mode": {
    "name": "ipython",
    "version": 3
   },
   "file_extension": ".py",
   "mimetype": "text/x-python",
   "name": "python",
   "nbconvert_exporter": "python",
   "pygments_lexer": "ipython3",
   "version": "3.11.1"
  }
 },
 "nbformat": 4,
 "nbformat_minor": 5
}
